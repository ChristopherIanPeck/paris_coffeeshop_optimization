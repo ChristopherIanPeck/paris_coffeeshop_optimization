{
 "cells": [
  {
   "cell_type": "code",
   "execution_count": 1,
   "id": "0721b344",
   "metadata": {
    "execution": {
     "iopub.execute_input": "2024-03-04T18:07:12.954813Z",
     "iopub.status.busy": "2024-03-04T18:07:12.954326Z",
     "iopub.status.idle": "2024-03-04T18:07:14.509040Z",
     "shell.execute_reply": "2024-03-04T18:07:14.507623Z"
    },
    "papermill": {
     "duration": 1.562387,
     "end_time": "2024-03-04T18:07:14.512017",
     "exception": false,
     "start_time": "2024-03-04T18:07:12.949630",
     "status": "completed"
    },
    "tags": []
   },
   "outputs": [],
   "source": [
    "import pulp\n",
    "import math\n",
    "import folium\n",
    "from IPython.display import IFrame"
   ]
  },
  {
   "cell_type": "code",
   "execution_count": 2,
   "id": "58b8139f",
   "metadata": {
    "execution": {
     "iopub.execute_input": "2024-03-04T18:07:14.519959Z",
     "iopub.status.busy": "2024-03-04T18:07:14.519306Z",
     "iopub.status.idle": "2024-03-04T18:07:14.538668Z",
     "shell.execute_reply": "2024-03-04T18:07:14.537467Z"
    },
    "papermill": {
     "duration": 0.026598,
     "end_time": "2024-03-04T18:07:14.541453",
     "exception": false,
     "start_time": "2024-03-04T18:07:14.514855",
     "status": "completed"
    },
    "tags": []
   },
   "outputs": [],
   "source": [
    "def haversine(lat1, lon1, lat2, lon2):\n",
    "    R = 6371  # Earth radius in kilometers\n",
    "\n",
    "    # Converting lat and long from degrees to radians\n",
    "    lat1, lon1, lat2, lon2 = map(math.radians, [lat1, lon1, lat2, lon2])\n",
    "\n",
    "    # Haversine Formula\n",
    "    dlat = lat2 - lat1\n",
    "    dlon = lon2 - lon1\n",
    "    a = math.sin(dlat / 2) ** 2 + math.cos(lat1) * math.cos(lat2) * math.sin(dlon / 2) ** 2\n",
    "    c = 2 * math.atan2(math.sqrt(a), math.sqrt(1 - a))\n",
    "    distance = R * c\n",
    "    return distance\n",
    "\n",
    "def create_distance_matrix(locations, start_lat, start_lon):\n",
    "    num_locations = len(locations)\n",
    "    distance_matrix = [[0] * num_locations for _ in range(num_locations)]\n",
    "\n",
    "    for i in range(num_locations):\n",
    "        for j in range(num_locations):\n",
    "            # Update the distance matrix with the new start location\n",
    "            distance_matrix[i][j] = haversine(start_lat, start_lon, locations[i]['lat'], locations[i]['lon']) + \\\n",
    "                                    haversine(locations[i]['lat'], locations[i]['lon'],\n",
    "                                              locations[j]['lat'], locations[j]['lon'])\n",
    "\n",
    "    return distance_matrix\n",
    "\n",
    "# Updated start location for Paris Charles de Gaulle Airport\n",
    "start_lat = 49.0079\n",
    "start_lon = 2.5487\n",
    "\n",
    "coffee_shops = [\n",
    "    {'name': 'Substance Cafe', 'lat': 48.8662, 'lon': 2.3492},\n",
    "    {'name': 'The Beans on Fire', 'lat': 48.8855, 'lon': 2.3382},\n",
    "    {'name': 'Dreamin Man', 'lat': 48.8650, 'lon': 2.3664},\n",
    "    {'name': 'Cafe Nuance', 'lat': 48.8688, 'lon': 2.3312},\n",
    "    {'name': 'Kawa', 'lat': 48.8630, 'lon': 2.3606},\n",
    "    {'name': 'Cayo Coffee Roasters', 'lat': 48.8305, 'lon': 2.3790},\n",
    "    {'name': 'Motors Coffee', 'lat': 48.8591, 'lon': 2.3469},\n",
    "    {'name': 'KB_Coffeeshop', 'lat': 48.8809, 'lon': 2.3408},\n",
    "    {'name': 'Telescope Cafe', 'lat': 48.8659, 'lon': 2.3362},\n",
    "    {'name': 'Noir Coffee Shop', 'lat': 48.8610, 'lon': 2.3225}\n",
    "]\n",
    "\n",
    "distance_matrix = create_distance_matrix(coffee_shops, start_lat, start_lon)"
   ]
  },
  {
   "cell_type": "code",
   "execution_count": 3,
   "id": "ace533f7",
   "metadata": {
    "execution": {
     "iopub.execute_input": "2024-03-04T18:07:14.548238Z",
     "iopub.status.busy": "2024-03-04T18:07:14.547849Z",
     "iopub.status.idle": "2024-03-04T18:07:14.696163Z",
     "shell.execute_reply": "2024-03-04T18:07:14.694984Z"
    },
    "papermill": {
     "duration": 0.15502,
     "end_time": "2024-03-04T18:07:14.699005",
     "exception": false,
     "start_time": "2024-03-04T18:07:14.543985",
     "status": "completed"
    },
    "tags": []
   },
   "outputs": [
    {
     "name": "stdout",
     "output_type": "stream",
     "text": [
      "Welcome to the CBC MILP Solver \n",
      "Version: 2.10.3 \n",
      "Build Date: Dec 15 2019 \n",
      "\n",
      "command line - /opt/conda/lib/python3.10/site-packages/pulp/solverdir/cbc/linux/64/cbc /tmp/0728f62989e947388e5567c0dca87380-pulp.mps -timeMode elapsed -branch -printingOptions all -solution /tmp/0728f62989e947388e5567c0dca87380-pulp.sol (default strategy 1)\n",
      "At line 2 NAME          MODEL\n",
      "At line 3 ROWS\n",
      "At line 25 COLUMNS\n",
      "At line 526 RHS\n",
      "At line 547 BOUNDS\n",
      "At line 648 ENDATA\n",
      "Problem MODEL has 20 rows, 100 columns and 200 elements\n",
      "Coin0008I MODEL read with 0 errors\n",
      "Option for timeMode changed from cpu to elapsed\n",
      "Continuous objective value is 217.642 - 0.00 seconds\n",
      "Cgl0004I processed model has 20 rows, 100 columns (100 integer (100 of which binary)) and 200 elements\n",
      "Cbc0038I Initial state - 0 integers unsatisfied sum - 0\n",
      "Cbc0038I Solution found of 217.642\n",
      "Cbc0038I Before mini branch and bound, 100 integers at bound fixed and 0 continuous\n",
      "Cbc0038I Mini branch and bound did not improve solution (0.01 seconds)\n",
      "Cbc0038I After 0.01 seconds - Feasibility pump exiting with objective of 217.642 - took 0.00 seconds\n",
      "Cbc0012I Integer solution of 217.64246 found by feasibility pump after 0 iterations and 0 nodes (0.01 seconds)\n",
      "Cbc0001I Search completed - best objective 217.64246272807, took 0 iterations and 0 nodes (0.01 seconds)\n",
      "Cbc0035I Maximum depth 0, 0 variables fixed on reduced cost\n",
      "Cuts at root node changed objective from 217.642 to 217.642\n",
      "Probing was tried 0 times and created 0 cuts of which 0 were active after adding rounds of cuts (0.000 seconds)\n",
      "Gomory was tried 0 times and created 0 cuts of which 0 were active after adding rounds of cuts (0.000 seconds)\n",
      "Knapsack was tried 0 times and created 0 cuts of which 0 were active after adding rounds of cuts (0.000 seconds)\n",
      "Clique was tried 0 times and created 0 cuts of which 0 were active after adding rounds of cuts (0.000 seconds)\n",
      "MixedIntegerRounding2 was tried 0 times and created 0 cuts of which 0 were active after adding rounds of cuts (0.000 seconds)\n",
      "FlowCover was tried 0 times and created 0 cuts of which 0 were active after adding rounds of cuts (0.000 seconds)\n",
      "TwoMirCuts was tried 0 times and created 0 cuts of which 0 were active after adding rounds of cuts (0.000 seconds)\n",
      "ZeroHalf was tried 0 times and created 0 cuts of which 0 were active after adding rounds of cuts (0.000 seconds)\n",
      "\n",
      "Result - Optimal solution found\n",
      "\n",
      "Objective value:                217.64246273\n",
      "Enumerated nodes:               0\n",
      "Total iterations:               0\n",
      "Time (CPU seconds):             0.01\n",
      "Time (Wallclock seconds):       0.01\n",
      "\n",
      "Option for printingOptions changed from normal to all\n",
      "Total time (CPU seconds):       0.01   (Wallclock seconds):       0.03\n",
      "\n",
      "Optimal Route: [0, 1, 2, 3, 4, 5, 6, 7, 8, 9]\n",
      "Optimal Order of Locations: [1, 2, 3, 4, 5, 6, 7, 8, 9, 10]\n"
     ]
    },
    {
     "data": {
      "text/html": [
       "\n",
       "        <iframe\n",
       "            width=\"800\"\n",
       "            height=\"600\"\n",
       "            src=\"optimal_route_map_with_numbers.html\"\n",
       "            frameborder=\"0\"\n",
       "            allowfullscreen\n",
       "            \n",
       "        ></iframe>\n",
       "        "
      ],
      "text/plain": [
       "<IPython.lib.display.IFrame at 0x78f601aaa6b0>"
      ]
     },
     "execution_count": 3,
     "metadata": {},
     "output_type": "execute_result"
    }
   ],
   "source": [
    "n = len(distance_matrix)\n",
    "model = pulp.LpProblem(\"Coffee_Shop_Tour\", pulp.LpMinimize)\n",
    "\n",
    "x = pulp.LpVariable.dicts(\"x\", [(i, j) for i in range(n) for j in range(n)], cat=\"Binary\")\n",
    "\n",
    "# Objective function\n",
    "model += pulp.lpSum(distance_matrix[i][j] * x[(i, j)] for i in range(n) for j in range(n))\n",
    "\n",
    "# Constraints\n",
    "for i in range(n):\n",
    "    model += pulp.lpSum(x[(i, j)] for j in range(n)) == 1  # Visit each location once\n",
    "    model += pulp.lpSum(x[(j, i)] for j in range(n)) == 1  # Leave each location once\n",
    "\n",
    "# Solve the model\n",
    "model.solve()\n",
    "\n",
    "optimal_route = [i for i in range(n) for j in range(n) if pulp.value(x[(i, j)]) == 1]\n",
    "print(\"Optimal Route:\", optimal_route)\n",
    "\n",
    "optimal_order = [j + 1 for j in optimal_route]\n",
    "print(\"Optimal Order of Locations:\", optimal_order)\n",
    "\n",
    "optimal_route_coordinates = [[coffee_shops[i]['lat'], coffee_shops[i]['lon']] for i in optimal_route]\n",
    "optimal_route_coordinates.append(optimal_route_coordinates[0])  # Closing the loop\n",
    "\n",
    "# Find the coordinates of the first coffee shop in the optimal order\n",
    "first_shop_coordinates = [coffee_shops[optimal_route[0]]['lat'], coffee_shops[optimal_route[0]]['lon']]\n",
    "\n",
    "# Create a map centered at the first coffee shop in the optimal order\n",
    "mymap = folium.Map(location=first_shop_coordinates, zoom_start=13)\n",
    "\n",
    "# Add markers for coffee shops with numbers\n",
    "for i, shop in enumerate(coffee_shops):\n",
    "    folium.Marker([shop['lat'], shop['lon']], popup=f\"{i + 1}. {shop['name']}\").add_to(mymap)\n",
    "\n",
    "# Add a polyline for the optimal route\n",
    "folium.PolyLine(optimal_route_coordinates, color='blue', weight=2.5, opacity=1).add_to(mymap)\n",
    "\n",
    "# Add numbers to the optimal route\n",
    "for i, coord in enumerate(optimal_route_coordinates[:-1]):\n",
    "    folium.Marker(coord, icon=folium.DivIcon(html=f\"<div style='font-size: 20; color: black;'>{i + 1}</div>\")).add_to(mymap)\n",
    "\n",
    "# Save the map as an HTML file\n",
    "html_file_path = \"optimal_route_map_with_numbers.html\"\n",
    "mymap.save(html_file_path)\n",
    "\n",
    "# Display the map within Kaggle notebook using IFrame\n",
    "IFrame(html_file_path, width=800, height=600)"
   ]
  }
 ],
 "metadata": {
  "kaggle": {
   "accelerator": "none",
   "dataSources": [],
   "dockerImageVersionId": 30664,
   "isGpuEnabled": false,
   "isInternetEnabled": true,
   "language": "python",
   "sourceType": "notebook"
  },
  "kernelspec": {
   "display_name": "Python 3",
   "language": "python",
   "name": "python3"
  },
  "language_info": {
   "codemirror_mode": {
    "name": "ipython",
    "version": 3
   },
   "file_extension": ".py",
   "mimetype": "text/x-python",
   "name": "python",
   "nbconvert_exporter": "python",
   "pygments_lexer": "ipython3",
   "version": "3.10.13"
  },
  "papermill": {
   "default_parameters": {},
   "duration": 5.746914,
   "end_time": "2024-03-04T18:07:15.324342",
   "environment_variables": {},
   "exception": null,
   "input_path": "__notebook__.ipynb",
   "output_path": "__notebook__.ipynb",
   "parameters": {},
   "start_time": "2024-03-04T18:07:09.577428",
   "version": "2.5.0"
  }
 },
 "nbformat": 4,
 "nbformat_minor": 5
}
